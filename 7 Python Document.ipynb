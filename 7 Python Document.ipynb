{
 "cells": [
  {
   "cell_type": "markdown",
   "metadata": {},
   "source": [
    "# Algorithms, Binary Search & Linked Lists"
   ]
  },
  {
   "cell_type": "markdown",
   "metadata": {},
   "source": [
    "## Tasks Today:\n",
    " \n",
    "1) <b>In-Place Algorithms</b> <br>\n",
    " &nbsp;&nbsp;&nbsp;&nbsp; a) Syntax <br>\n",
    " &nbsp;&nbsp;&nbsp;&nbsp; a) Out of Place Algorithm <br>\n",
    " &nbsp;&nbsp;&nbsp;&nbsp; b) In-Class Exercise #1 <br>\n",
    "2) <b>Two Pointers</b> <br>\n",
    "3) <b>Linked Lists</b> <br>\n",
    "4) <b>Merge Sort</b> <br>\n",
    " &nbsp;&nbsp;&nbsp;&nbsp; a) Video on Algorithms <br>\n",
    " &nbsp;&nbsp;&nbsp;&nbsp; b) How it Works <br>\n",
    "5) <b>Exercises</b> <br>\n",
    " &nbsp;&nbsp;&nbsp;&nbsp; a) Exercise #1 - Reverse a List in Place Using an In-Place Algorithm <br>\n",
    " &nbsp;&nbsp;&nbsp;&nbsp; b) Exercise #2 - Find Distinct Words <br>\n",
    " &nbsp;&nbsp;&nbsp;&nbsp; c) Exercise #3 - Write a program to implement a Linear Search Algorithm. <br>"
   ]
  },
  {
   "cell_type": "markdown",
   "metadata": {},
   "source": [
    "## In-Place Algorithms"
   ]
  },
  {
   "cell_type": "markdown",
   "metadata": {},
   "source": [
    "#### Syntax"
   ]
  },
  {
   "cell_type": "code",
   "execution_count": 1,
   "metadata": {},
   "outputs": [
    {
     "data": {
      "text/plain": [
       "[30, 20, 10]"
      ]
     },
     "execution_count": 1,
     "metadata": {},
     "output_type": "execute_result"
    }
   ],
   "source": [
    "def swap(a_list, x, y, z):\n",
    "    a_list[x],a_list[y],a_list[z]=a_list[z],a_list[y],a_list[x]\n",
    "    return a_list\n",
    "my_list=[10,20,30]\n",
    "swap(my_list,0,1,2)"
   ]
  },
  {
   "cell_type": "markdown",
   "metadata": {},
   "source": [
    "#### Out of Place Algorithm"
   ]
  },
  {
   "cell_type": "code",
   "execution_count": 2,
   "metadata": {},
   "outputs": [
    {
     "name": "stdout",
     "output_type": "stream",
     "text": [
      "before ['a', 'b', 'c', 'd']\n",
      "After ['d', 'c', 'b', 'a']\n"
     ]
    }
   ],
   "source": [
    "#not swapping\n",
    "my_list_copy=my_list[::-1]\n",
    "\n",
    "array=['a','b','c','d']\n",
    "new_arr=['a']*len(array)\n",
    "\n",
    "print(\"before\",array)\n",
    "length=len(array)-1\n",
    "\n",
    "for i in range(length):\n",
    "    new_arr[i]=array[length-i]\n",
    "    \n",
    "array=new_arr\n",
    "print(\"After\",array)"
   ]
  },
  {
   "cell_type": "markdown",
   "metadata": {},
   "source": [
    "#### In-Class Exercise #1 <br>\n",
    "<p>Write a function that takes in four arguments (list, index1, index2, index3), and swaps those three positions in the list passed in.</p>"
   ]
  },
  {
   "cell_type": "code",
   "execution_count": 3,
   "metadata": {},
   "outputs": [
    {
     "data": {
      "text/plain": [
       "[10, 4, 3, 2, 4, 8, 6]"
      ]
     },
     "execution_count": 3,
     "metadata": {},
     "output_type": "execute_result"
    }
   ],
   "source": [
    "def swap(a_list, x, y, z):\n",
    "    a_list[x],a_list[y],a_list[z]=a_list[z],a_list[y],a_list[x]\n",
    "    return a_list\n",
    "\n",
    "l_1 = [10, 4, 3, 8, 4, 2, 6]\n",
    "\n",
    "swap(l_1,3,4,5)\n"
   ]
  },
  {
   "cell_type": "markdown",
   "metadata": {},
   "source": [
    "## Two Pointers"
   ]
  },
  {
   "cell_type": "markdown",
   "metadata": {},
   "source": [
    "#### Syntax"
   ]
  },
  {
   "cell_type": "code",
   "execution_count": 4,
   "metadata": {},
   "outputs": [
    {
     "name": "stdout",
     "output_type": "stream",
     "text": [
      "[6, 2, 4, 8, 3, 4, 10]\n"
     ]
    }
   ],
   "source": [
    "def twoPointers(alist):\n",
    "    l=0\n",
    "    r=len(alist)-1\n",
    "    \n",
    "    while(l<=r):\n",
    "        alist[l],alist[r]=alist[r],alist[l]\n",
    "        l+=1\n",
    "        r-=1\n",
    "    return alist\n",
    "\n",
    "l_1 = [10, 4, 3, 8, 4, 2, 6]\n",
    "\n",
    "ans=twoPointers(l_1)\n",
    "print(ans)"
   ]
  },
  {
   "cell_type": "markdown",
   "metadata": {},
   "source": [
    "#### Video of Algorithms <br>\n",
    "<p>Watch the video about algorithms.</p>\n",
    "\n",
    "https://www.youtube.com/watch?v=Q9HjeFD62Uk\n",
    "\n",
    "https://www.youtube.com/watch?v=kPRA0W1kECg\n",
    "\n",
    "https://www.youtube.com/watch?v=ZZuD6iUe3Pc"
   ]
  },
  {
   "cell_type": "markdown",
   "metadata": {},
   "source": [
    "# Sorting Algorithms"
   ]
  },
  {
   "cell_type": "markdown",
   "metadata": {},
   "source": [
    "#### Bubble Sort\n",
    "\n",
    "Worst Case: O(n^2) Time - O(1) Space"
   ]
  },
  {
   "cell_type": "code",
   "execution_count": 5,
   "metadata": {},
   "outputs": [
    {
     "name": "stdout",
     "output_type": "stream",
     "text": [
      "[1, 2, 3, 4, 5, 6, 7, 8, 9, 10]\n"
     ]
    }
   ],
   "source": [
    "def swap(i,j,a):\n",
    "    a[i],a[j]=a[j],a[i]\n",
    "def bubblesort(a):\n",
    "    flag=False\n",
    "    while not flag:\n",
    "        flag=True\n",
    "        for num in range(len(a)-1):\n",
    "            if a[num]>a[num+1]:\n",
    "                swap(num,num+1,a)\n",
    "                flag=False\n",
    "    return a\n",
    "ans=bubblesort([10,2,3,4,6,7,1,8,9,5])\n",
    "print(ans)"
   ]
  },
  {
   "cell_type": "markdown",
   "metadata": {},
   "source": [
    "##### Insertion Sort\n",
    "\n",
    "Worst Case: O(n^2) time - O(1)space"
   ]
  },
  {
   "cell_type": "code",
   "execution_count": 6,
   "metadata": {},
   "outputs": [
    {
     "name": "stdout",
     "output_type": "stream",
     "text": [
      "[1, 2, 3, 4, 5, 6, 7, 8, 9, 10]\n"
     ]
    }
   ],
   "source": [
    "def swap(i,j,a):\n",
    "    a[i],a[j]=a[j],a[i]\n",
    "def insertionsort(a):\n",
    "    for i in range(1,len(a)):\n",
    "        j=i\n",
    "        while j>0 and a[j]<a[j-1]:\n",
    "            swap(j,j-1,a)\n",
    "            j-=1\n",
    "    return a\n",
    "ans=insertionsort([10,2,3,4,6,7,1,8,9,5])\n",
    "print(ans)"
   ]
  },
  {
   "cell_type": "markdown",
   "metadata": {},
   "source": [
    "## Merge Sort"
   ]
  },
  {
   "cell_type": "markdown",
   "metadata": {},
   "source": [
    "#### How it Works"
   ]
  },
  {
   "cell_type": "code",
   "execution_count": 7,
   "metadata": {},
   "outputs": [
    {
     "name": "stdout",
     "output_type": "stream",
     "text": [
      "splitting... [15, 0, 8, 3, 0]\n",
      "splitting... [15, 0]\n",
      "splitting... [15]\n",
      "splitting... [0]\n",
      "merging...  [0, 15]\n",
      "splitting... [8, 3, 0]\n",
      "splitting... [8]\n",
      "splitting... [3, 0]\n",
      "splitting... [3]\n",
      "splitting... [0]\n",
      "merging...  [0, 3]\n",
      "merging...  [0, 3, 8]\n",
      "merging...  [0, 0, 3, 8, 15]\n"
     ]
    },
    {
     "data": {
      "text/plain": [
       "[0, 0, 3, 8, 15]"
      ]
     },
     "execution_count": 7,
     "metadata": {},
     "output_type": "execute_result"
    }
   ],
   "source": [
    "from random import randint\n",
    "nums=[randint(0,20) for i in range(5)]\n",
    "\n",
    "def mergesort(a):\n",
    "    print(\"splitting...\",a)\n",
    "    \n",
    "    if len(a)>1:\n",
    "        mid=len(a)//2\n",
    "        l=a[:mid]\n",
    "        r=a[mid:]\n",
    "        \n",
    "        mergesort(l)\n",
    "        mergesort(r)\n",
    "        \n",
    "        i,j,k=0,0,0\n",
    "        \n",
    "        while i<len(l) and j<len(r):\n",
    "            if l[i]<r[j]:\n",
    "                a[k]=l[i]\n",
    "                i+=1\n",
    "            else:\n",
    "                a[k]=r[j]\n",
    "                j+=1\n",
    "            k+=1\n",
    "            \n",
    "        while i<len(l):\n",
    "            a[k]=l[i]\n",
    "            i+=1\n",
    "            k+=1\n",
    "            j+=1\n",
    "        print(\"merging... \",a)\n",
    "        return a\n",
    "mergesort(nums)"
   ]
  },
  {
   "cell_type": "markdown",
   "metadata": {},
   "source": [
    "# Binary Search\n",
    "\n",
    "The Binary Search algorithm works by finding the number in the middle of a given array and comparing it to the target. Given that the array is sorted\n",
    "\n",
    "* The worst case run time for this algorithm is `O(log(n))`"
   ]
  },
  {
   "cell_type": "code",
   "execution_count": 8,
   "metadata": {},
   "outputs": [
    {
     "name": "stdout",
     "output_type": "stream",
     "text": [
      "the index is 7\n"
     ]
    }
   ],
   "source": [
    "def binarysearchfunc(a,target,l,r):\n",
    "    while(l<=r):\n",
    "        middle=(l+r)//2\n",
    "        potential_match=a[middle]\n",
    "        if target==potential_match:\n",
    "            return f\"the index is {middle}\"\n",
    "        elif target<potential_match:\n",
    "            r=middle-1\n",
    "        else:\n",
    "            l=middle+1\n",
    "    return -1\n",
    "def binarysearch(a,target):\n",
    "    return binarysearchfunc(a,target,0,len(a)-1)\n",
    "\n",
    "ans=binarysearch([1,2,3,4,5,6,7,8,9,10],8)\n",
    "print(ans)"
   ]
  },
  {
   "cell_type": "markdown",
   "metadata": {},
   "source": [
    "# Exercises"
   ]
  },
  {
   "cell_type": "markdown",
   "metadata": {},
   "source": [
    "### Exercise #1 <br>\n",
    "<p>Reverse the list below in-place using an in-place algorithm.<br>For extra credit: Reverse the strings at the same time.</p>"
   ]
  },
  {
   "cell_type": "code",
   "execution_count": 9,
   "metadata": {},
   "outputs": [
    {
     "name": "stdout",
     "output_type": "stream",
     "text": [
      "['.', 'ecnetnes', 'a', 'si', 'siht']\n"
     ]
    }
   ],
   "source": [
    "def rev(lst):\n",
    "    l, r = 0, len(lst) - 1\n",
    "\n",
    "    while l < r:\n",
    "        lst[l], lst[r] = lst[r], lst[l]\n",
    "        lst[l], lst[r] = lst[l][::-1], lst[r][::-1]\n",
    "        l += 1\n",
    "        r -= 1\n",
    "my_list = ['this' , 'is', 'a', 'sentence', '.']\n",
    "rev(my_list)\n",
    "print(my_list)\n"
   ]
  },
  {
   "cell_type": "markdown",
   "metadata": {},
   "source": [
    "### Exercise #2 <br>\n",
    "<p>Create a function that counts how many distinct words are in the string below, then outputs a dictionary with the words as the key and the value as the amount of times that word appears in the string.<br>Should output:<br>{'a': 5,<br>\n",
    " 'abstract': 1,<br>\n",
    " 'an': 3,<br>\n",
    " 'array': 2, ... etc...</p>"
   ]
  },
  {
   "cell_type": "code",
   "execution_count": 10,
   "metadata": {},
   "outputs": [
    {
     "name": "stdout",
     "output_type": "stream",
     "text": [
      "{'in': 1, 'computing': 1, 'a': 5, 'hash': 4, 'table': 2, 'map': 2, 'is': 1, 'data': 2, 'structure': 2, 'which': 2, 'implements': 1, 'an': 3, 'associative': 1, 'array': 2, 'abstract': 1, 'type': 1, 'that': 1, 'can': 2, 'keys': 1, 'to': 2, 'values.': 1, 'uses': 1, 'function': 1, 'compute': 1, 'index': 1, 'into': 1, 'of': 1, 'buckets': 1, 'or': 1, 'slots': 1, 'from': 1, 'the': 1, 'desired': 1, 'value': 1, 'be': 1, 'found': 1}\n"
     ]
    }
   ],
   "source": [
    "#a_text = 'In computing, a hash table hash map is a data structure which implements an associative array abstract data type, a structure that can map keys to values. A hash table uses a hash function to compute an index into an array of buckets or slots from which the desired value can be found'\n",
    "def func(text):\n",
    "    mpp = {}\n",
    "    words = text.split()\n",
    "    for word in words:\n",
    "        word = word.strip(',')\n",
    "        word = word.lower()\n",
    "        if word in mpp:\n",
    "            mpp[word] += 1\n",
    "        else:\n",
    "            mpp[word] = 1\n",
    "    return mpp\n",
    "\n",
    "a_text = 'In computing, a hash table hash map is a data structure which implements an associative array abstract data type, a structure that can map keys to values. A hash table uses a hash function to compute an index into an array of buckets or slots from which the desired value can be found'\n",
    "result = func(a_text)\n",
    "print(result)\n"
   ]
  },
  {
   "cell_type": "markdown",
   "metadata": {},
   "source": [
    "## Exercise #3\n",
    "\n",
    "Write a program to implement a Linear Search Algorithm. Also in a comment, write the Time Complexity of the following algorithm.\n",
    "\n",
    "#### Hint: Linear Searching will require searching a list for a given number. "
   ]
  },
  {
   "cell_type": "code",
   "execution_count": 11,
   "metadata": {},
   "outputs": [
    {
     "name": "stdout",
     "output_type": "stream",
     "text": [
      "8 found at index 3\n"
     ]
    }
   ],
   "source": [
    "def linsearch(a, target):\n",
    "    for i in range(len(a)):\n",
    "        if a[i] == target:\n",
    "            return i\n",
    "    return -1\n",
    "\n",
    "my_list = [2, 4, 6, 8, 10, 12, 14]\n",
    "target = 8\n",
    "result = linsearch(my_list, target)\n",
    "\n",
    "if result != -1:\n",
    "    print(f\"{target} found at index {result}\")\n",
    "else:\n",
    "    print(f\"{target} not present\")\n",
    "\n",
    "# Time complexity is O(n)"
   ]
  },
  {
   "cell_type": "code",
   "execution_count": null,
   "metadata": {},
   "outputs": [],
   "source": []
  },
  {
   "cell_type": "code",
   "execution_count": null,
   "metadata": {},
   "outputs": [],
   "source": []
  }
 ],
 "metadata": {
  "kernelspec": {
   "display_name": "Python 3 (ipykernel)",
   "language": "python",
   "name": "python3"
  },
  "language_info": {
   "codemirror_mode": {
    "name": "ipython",
    "version": 3
   },
   "file_extension": ".py",
   "mimetype": "text/x-python",
   "name": "python",
   "nbconvert_exporter": "python",
   "pygments_lexer": "ipython3",
   "version": "3.11.4"
  }
 },
 "nbformat": 4,
 "nbformat_minor": 2
}
